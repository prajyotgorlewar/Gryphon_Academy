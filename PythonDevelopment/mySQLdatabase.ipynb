{
 "cells": [
  {
   "cell_type": "markdown",
   "id": "df79823b",
   "metadata": {},
   "source": [
    "### Create Virtual Environment"
   ]
  },
  {
   "cell_type": "code",
   "execution_count": null,
   "id": "72922498",
   "metadata": {},
   "outputs": [],
   "source": [
    "python -m venv ve_name"
   ]
  },
  {
   "cell_type": "markdown",
   "id": "1a4f61c6",
   "metadata": {},
   "source": [
    "### Activate Virtual Environment"
   ]
  },
  {
   "cell_type": "markdown",
   "id": "d61fb46a",
   "metadata": {},
   "source": [
    "./ve_name/Scripts/activate"
   ]
  },
  {
   "cell_type": "markdown",
   "id": "8c7a77f2",
   "metadata": {},
   "source": [
    "### Install MySQL library"
   ]
  },
  {
   "cell_type": "code",
   "execution_count": 2,
   "id": "e364ac80",
   "metadata": {},
   "outputs": [
    {
     "name": "stdout",
     "output_type": "stream",
     "text": [
      "Collecting mysql-connector-python\n",
      "  Downloading mysql_connector_python-9.3.0-cp313-cp313-win_amd64.whl.metadata (7.7 kB)\n",
      "Downloading mysql_connector_python-9.3.0-cp313-cp313-win_amd64.whl (16.4 MB)\n",
      "   ---------------------------------------- 0.0/16.4 MB ? eta -:--:--\n",
      "   ---------------------------------------- 0.0/16.4 MB ? eta -:--:--\n",
      "   --- ------------------------------------ 1.3/16.4 MB 5.7 MB/s eta 0:00:03\n",
      "   ------- -------------------------------- 2.9/16.4 MB 6.9 MB/s eta 0:00:02\n",
      "   ----------- ---------------------------- 4.7/16.4 MB 7.5 MB/s eta 0:00:02\n",
      "   -------------- ------------------------- 5.8/16.4 MB 7.0 MB/s eta 0:00:02\n",
      "   ---------------- ----------------------- 6.8/16.4 MB 6.7 MB/s eta 0:00:02\n",
      "   ------------------- -------------------- 8.1/16.4 MB 6.8 MB/s eta 0:00:02\n",
      "   ----------------------- ---------------- 9.7/16.4 MB 6.6 MB/s eta 0:00:02\n",
      "   -------------------------- ------------- 10.7/16.4 MB 6.7 MB/s eta 0:00:01\n",
      "   ------------------------------ --------- 12.6/16.4 MB 6.7 MB/s eta 0:00:01\n",
      "   --------------------------------- ------ 13.6/16.4 MB 6.8 MB/s eta 0:00:01\n",
      "   ------------------------------------- -- 15.5/16.4 MB 6.9 MB/s eta 0:00:01\n",
      "   ---------------------------------------- 16.4/16.4 MB 6.9 MB/s eta 0:00:00\n",
      "Installing collected packages: mysql-connector-python\n",
      "Successfully installed mysql-connector-python-9.3.0\n",
      "Note: you may need to restart the kernel to use updated packages.\n"
     ]
    },
    {
     "name": "stderr",
     "output_type": "stream",
     "text": [
      "\n",
      "[notice] A new release of pip is available: 24.3.1 -> 25.1.1\n",
      "[notice] To update, run: python.exe -m pip install --upgrade pip\n"
     ]
    }
   ],
   "source": [
    "pip install mysql-connector-python"
   ]
  },
  {
   "cell_type": "markdown",
   "id": "de6d5a53",
   "metadata": {},
   "source": [
    "## MySQL Database"
   ]
  },
  {
   "cell_type": "code",
   "execution_count": 44,
   "id": "a815f915",
   "metadata": {},
   "outputs": [
    {
     "name": "stdout",
     "output_type": "stream",
     "text": [
      "Connected to database: <mysql.connector.connection_cext.CMySQLConnection object at 0x000001C288E5A210>\n"
     ]
    }
   ],
   "source": [
    "import mysql.connector as connector\n",
    "\n",
    "mydb = connector.connect(\n",
    "    host = \"localhost\",\n",
    "    user = \"root\",\n",
    "    password = \"ROOT\",\n",
    "    port = 3306\n",
    ")\n",
    "\n",
    "print('Connected to database:' , mydb)\n",
    "\n",
    "# cursor = mydb.cursor()\n",
    "# QUERY = \"\"\"CREATE DATABASE EMPLOYEE\"\"\"\n",
    "# cursor.execute(QUERY)\n",
    "# mydb.commit()\n",
    "# result = cursor.execute(\"show databases\")\n",
    "# result = cursor.fetchall()\n",
    "# print(result)"
   ]
  },
  {
   "cell_type": "code",
   "execution_count": 45,
   "id": "d715bdf2",
   "metadata": {},
   "outputs": [],
   "source": [
    "cursor = mydb.cursor()\n",
    "QUERY = \"USE EMPLOYEE\"\n",
    "cursor.execute(QUERY)\n",
    "QUERY = \"\"\"CREATE TABLE IF NOT EXISTS EMP_DETAILS(\n",
    "        ID INT,\n",
    "        USERNAME VARCHAR(50),\n",
    "        EMAIL VARCHAR(50))\"\"\"\n",
    "cursor.execute(QUERY)\n",
    "mydb.commit()"
   ]
  },
  {
   "cell_type": "code",
   "execution_count": 20,
   "id": "2381ed97",
   "metadata": {},
   "outputs": [],
   "source": [
    "## Insert records in emp_details table\n",
    "\n",
    "cursor = mydb.cursor()\n",
    "QUERY = \"\"\"INSERT INTO EMP_DETAILS (ID, USERNAME, EMAIL) VALUES (1, 'John', 'john@example.com');\"\"\"\n",
    "cursor.execute(QUERY)\n",
    "mydb.commit()"
   ]
  },
  {
   "cell_type": "code",
   "execution_count": 46,
   "id": "a1ed74e3",
   "metadata": {},
   "outputs": [],
   "source": [
    "cursor = mydb.cursor()\n",
    "QUERY = \"\"\"INSERT INTO EMP_DETAILS (ID, USERNAME, EMAIL) VALUES \n",
    "        (7, 'JohnX', 'john@example.com')\n",
    "        ,(8, 'JohnZ', 'john@example.com');\"\"\"\n",
    "cursor.execute(QUERY)\n",
    "mydb.commit()"
   ]
  },
  {
   "cell_type": "code",
   "execution_count": null,
   "id": "6e681cfa",
   "metadata": {},
   "outputs": [
    {
     "name": "stdout",
     "output_type": "stream",
     "text": [
      "(1, 'John', 'john@example.com')\n",
      "(1, 'John', 'john@example.com')\n",
      "(1, 'John', 'john@example.com')\n",
      "(4, 'JohnY', 'john@example.com')\n",
      "(7, 'JohnX', 'john@example.com')\n",
      "(8, 'JohnZ', 'john@example.com')\n",
      "(7, 'JohnX', 'john@example.com')\n",
      "(8, 'JohnZ', 'john@example.com')\n"
     ]
    }
   ],
   "source": [
    "\n",
    "\n",
    "\n",
    "cursor.execute(\"SELECT * FROM EMP_DETAILS\")\n",
    "rows = cursor.fetchall()  # this clears out all rows\n",
    "for row in rows:\n",
    "    print(row)\n"
   ]
  },
  {
   "cell_type": "code",
   "execution_count": null,
   "id": "d1c92d9b",
   "metadata": {},
   "outputs": [
    {
     "name": "stdout",
     "output_type": "stream",
     "text": [
      "(4, 'JohnY', 'john@example.com')\n",
      "(7, 'JohnX', 'john@example.com')\n",
      "(8, 'JohnZ', 'john@example.com')\n",
      "(7, 'JohnX', 'john@example.com')\n",
      "(8, 'JohnZ', 'john@example.com')\n"
     ]
    }
   ],
   "source": [
    "# Delete row with id = 1, only the first row will be deleted\n",
    "\n",
    "QUERY = \"DELETE FROM EMP_DETAILS WHERE ID = 1 LIMIT 1\"\n",
    "cursor.execute(QUERY)\n",
    "mydb.commit()\n",
    "\n",
    "\n",
    "cursor.execute(\"SELECT * FROM EMP_DETAILS\")\n",
    "\n",
    "\n",
    "rows = cursor.fetchall()  # this clears out all rows\n",
    "for row in rows:\n",
    "    print(row)"
   ]
  },
  {
   "cell_type": "code",
   "execution_count": null,
   "id": "5af8b0cb",
   "metadata": {},
   "outputs": [],
   "source": []
  },
  {
   "cell_type": "code",
   "execution_count": null,
   "id": "e8f47804",
   "metadata": {},
   "outputs": [],
   "source": []
  }
 ],
 "metadata": {
  "kernelspec": {
   "display_name": "pythonVE",
   "language": "python",
   "name": "python3"
  },
  "language_info": {
   "codemirror_mode": {
    "name": "ipython",
    "version": 3
   },
   "file_extension": ".py",
   "mimetype": "text/x-python",
   "name": "python",
   "nbconvert_exporter": "python",
   "pygments_lexer": "ipython3",
   "version": "3.13.2"
  }
 },
 "nbformat": 4,
 "nbformat_minor": 5
}
