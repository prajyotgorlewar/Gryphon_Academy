{
 "cells": [
  {
   "cell_type": "markdown",
   "id": "744210ec",
   "metadata": {},
   "source": [
    "## Logging with logging module"
   ]
  },
  {
   "cell_type": "code",
   "execution_count": 1,
   "id": "b8e69ecb",
   "metadata": {},
   "outputs": [
    {
     "name": "stderr",
     "output_type": "stream",
     "text": [
      "INFO:root:App started\n"
     ]
    }
   ],
   "source": [
    "# basic logging\n",
    "import logging\n",
    "logging.basicConfig(level=logging.INFO)\n",
    "logging.info(\"App started\")"
   ]
  },
  {
   "cell_type": "code",
   "execution_count": 2,
   "id": "ea69ac72",
   "metadata": {},
   "outputs": [
    {
     "name": "stderr",
     "output_type": "stream",
     "text": [
      "INFO:root:This is an info message\n"
     ]
    },
    {
     "name": "stdout",
     "output_type": "stream",
     "text": [
      "0 20 50\n"
     ]
    }
   ],
   "source": [
    "## Logging levels : # NOTEST(0) < DEBUG(10) < INFO(20) < WARNING(30) < ERROR(40) < CRITICAL(50)\n",
    "\n",
    "import logging\n",
    "logger = logging.getLogger(\"myLogger\")\n",
    "logger.setLevel(logging.INFO)\n",
    "logging.info(\"This is an info message\")\n",
    "print(logging.NOTSET, logging.INFO, logging.CRITICAL)"
   ]
  },
  {
   "cell_type": "code",
   "execution_count": 5,
   "id": "7be5c1ea",
   "metadata": {},
   "outputs": [
    {
     "name": "stderr",
     "output_type": "stream",
     "text": [
      "Info message passes to t he handler\n",
      "Info message passes to t he handler\n",
      "Info message passes to t he handler\n",
      "INFO:myLogger:Info message passes to t he handler\n"
     ]
    }
   ],
   "source": [
    "# Stream and fille handler\n",
    "\n",
    "import logging\n",
    "logger = logging.getLogger(\"myLogger\")\n",
    "logger.setLevel(logging.INFO)\n",
    "\n",
    "streamHandler = logging.StreamHandler()\n",
    "logger.addHandler(streamHandler)\n",
    "\n",
    "fileHandler = logging.FileHandler(\"app.log\")\n",
    "logger.addHandler(fileHandler)\n",
    "\n",
    "logger.info(\"Info message passes to t he handler\")"
   ]
  },
  {
   "cell_type": "code",
   "execution_count": 11,
   "id": "066c3092",
   "metadata": {},
   "outputs": [
    {
     "name": "stderr",
     "output_type": "stream",
     "text": [
      "Info message passes to t he handler\n",
      "Critical message passes to the handler\n"
     ]
    }
   ],
   "source": [
    "# Stream and fille handler\n",
    "\n",
    "import logging\n",
    "logger = logging.getLogger(\"myLogger\")\n",
    "logger.setLevel(logging.INFO)\n",
    "logger.propagate = False\n",
    "\n",
    "if logger.hasHandlers(): ## if there are any handlers, clear them\n",
    "    logger.handlers.clear()\n",
    "\n",
    "streamHandler = logging.StreamHandler()\n",
    "logger.addHandler(streamHandler)\n",
    "\n",
    "fileHandler = logging.FileHandler(\"app.log\")\n",
    "fileHandler.setLevel(logging.CRITICAL)\n",
    "logger.addHandler(fileHandler)\n",
    "\n",
    "logger.info(\"Info message passes to t he handler\")\n",
    "logger.critical(\"Critical message passes to the handler\")\n",
    "logging.shutdown()"
   ]
  },
  {
   "cell_type": "markdown",
   "id": "7898220c",
   "metadata": {},
   "source": [
    "#### formating logs"
   ]
  },
  {
   "cell_type": "code",
   "execution_count": null,
   "id": "1df487c2",
   "metadata": {},
   "outputs": [],
   "source": [
    "import logging\n",
    "from logging.handlers import RotatingFileHandler\n",
    "\n",
    "logger = logging.getLogger(\"myLogger\")\n",
    "logger.setLevel(logging.INFO)\n",
    "logger.propagate = False\n",
    "\n",
    "if logger.hasHandlers(): ## if there are any handlers, clear them\n",
    "    logger.handlers.clear()\n",
    "\n",
    "handler = RotatingFileHandler(\"apps.log\", maxBytes=200, backupCount=9)\n",
    "formatter = logging.Formatter(\"%(asctime)s - %(name)s - %(levelname)s - %(message)s\")\n",
    "handler.setFormatter(formatter)\n",
    "logger.addHandler(handler)\n",
    "logger.critical(\"This is an info message\")\n",
    "logging.shutdown()"
   ]
  },
  {
   "cell_type": "code",
   "execution_count": null,
   "id": "f870cb95",
   "metadata": {},
   "outputs": [],
   "source": []
  }
 ],
 "metadata": {
  "kernelspec": {
   "display_name": "Python 3",
   "language": "python",
   "name": "python3"
  },
  "language_info": {
   "codemirror_mode": {
    "name": "ipython",
    "version": 3
   },
   "file_extension": ".py",
   "mimetype": "text/x-python",
   "name": "python",
   "nbconvert_exporter": "python",
   "pygments_lexer": "ipython3",
   "version": "3.12.5"
  }
 },
 "nbformat": 4,
 "nbformat_minor": 5
}
