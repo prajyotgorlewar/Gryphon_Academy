{
 "cells": [
  {
   "cell_type": "code",
   "execution_count": null,
   "id": "198d2aed",
   "metadata": {},
   "outputs": [
    {
     "name": "stdout",
     "output_type": "stream",
     "text": [
      "\n",
      "Hello\n",
      "In else Block\n",
      "In finally Block\n"
     ]
    }
   ],
   "source": [
    "try:\n",
    "    with open(\"data.txt\", \"r\") as file:\n",
    "        print(file.read())\n",
    "except ValueError as e:\n",
    "    print(e)\n",
    "except ZeroDivisionError as e:\n",
    "    print(e)\n",
    "except FileNotFoundError as e:\n",
    "    print(e)    \n",
    "else: # will execute if no exception is raised\n",
    "    print(\"In else Block\")    \n",
    "finally: # will execute no matter what\n",
    "    print(\"In finally Block\")\n"
   ]
  },
  {
   "cell_type": "markdown",
   "id": "862e88e9",
   "metadata": {},
   "source": [
    "##### generalException"
   ]
  },
  {
   "cell_type": "code",
   "execution_count": 10,
   "id": "c7ce1a74",
   "metadata": {},
   "outputs": [
    {
     "name": "stdout",
     "output_type": "stream",
     "text": [
      "division by zero\n"
     ]
    }
   ],
   "source": [
    "try:\n",
    "    v = 10/0\n",
    "    print(v)\n",
    "except Exception as e:\n",
    "    print(e)"
   ]
  },
  {
   "cell_type": "markdown",
   "id": "8c744ba3",
   "metadata": {},
   "source": [
    "##### Custom Exception"
   ]
  },
  {
   "cell_type": "code",
   "execution_count": 15,
   "id": "9355ef5b",
   "metadata": {},
   "outputs": [
    {
     "name": "stdout",
     "output_type": "stream",
     "text": [
      "Invalid input\n"
     ]
    },
    {
     "name": "stderr",
     "output_type": "stream",
     "text": [
      "Traceback (most recent call last):\n",
      "  File \"C:\\Users\\Prajyot\\AppData\\Local\\Temp\\ipykernel_1432\\1422350514.py\", line 12, in <module>\n",
      "    raise ValidationError(\"Invalid input\")\n",
      "ValidationError: Invalid input\n"
     ]
    }
   ],
   "source": [
    "import traceback\n",
    "class AppError(Exception):\n",
    "    pass\n",
    "class ValidationError(AppError):\n",
    "    def __init__(self, message):\n",
    "        super().__init__(message)\n",
    "\n",
    "\n",
    "n = input(\"Enter a number: \")\n",
    "try:\n",
    "    if not n.isnumeric():\n",
    "        raise ValidationError(\"Invalid input\")\n",
    "    print(\"you entered  valid number\")\n",
    "except ValidationError as e:\n",
    "    print(e)\n",
    "    traceback.print_exc()\n"
   ]
  },
  {
   "cell_type": "markdown",
   "id": "3a607ddc",
   "metadata": {},
   "source": [
    "##### Warnings"
   ]
  },
  {
   "cell_type": "code",
   "execution_count": null,
   "id": "d4402f09",
   "metadata": {},
   "outputs": [],
   "source": [
    "import warnings\n",
    "warnings.warn(\"This is a warning message\")"
   ]
  }
 ],
 "metadata": {
  "kernelspec": {
   "display_name": "Python 3",
   "language": "python",
   "name": "python3"
  },
  "language_info": {
   "codemirror_mode": {
    "name": "ipython",
    "version": 3
   },
   "file_extension": ".py",
   "mimetype": "text/x-python",
   "name": "python",
   "nbconvert_exporter": "python",
   "pygments_lexer": "ipython3",
   "version": "3.12.5"
  }
 },
 "nbformat": 4,
 "nbformat_minor": 5
}
