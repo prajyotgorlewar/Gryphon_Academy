{
 "cells": [
  {
   "cell_type": "markdown",
   "id": "6cd44680",
   "metadata": {},
   "source": [
    "## File Handling"
   ]
  },
  {
   "cell_type": "code",
   "execution_count": 26,
   "id": "872ce505",
   "metadata": {},
   "outputs": [],
   "source": [
    "with open(\"myfile.txt\", \"w\") as f:      #context management using \"with\" no need to close the file\n",
    "    f.write(\"This is a sample sentence\")\n",
    "    f.write(\"\\nThis is another sentence\")\n",
    "    f.write(\"\\nThis is the third sentence\")"
   ]
  },
  {
   "cell_type": "code",
   "execution_count": 13,
   "id": "97abef31",
   "metadata": {},
   "outputs": [
    {
     "name": "stdout",
     "output_type": "stream",
     "text": [
      "This is a sample sentence\n",
      "\n",
      "['This is another sentence\\n', 'This is the third sentence']\n"
     ]
    }
   ],
   "source": [
    "with open(\"myfile.txt\", \"r\") as f: \n",
    "    # data = f.read()\n",
    "    data1 = f.readline()  # get first line\n",
    "    data2 = f.readlines()  # get list of all lines\n",
    "    # print(data)\n",
    "    print(data1)\n",
    "    print(data2)"
   ]
  },
  {
   "cell_type": "code",
   "execution_count": null,
   "id": "f451cee8",
   "metadata": {},
   "outputs": [],
   "source": [
    "with open(\"myfile.txt\", \"w\") as f: \n",
    "    # data = f.read() # unsupported operation\n",
    "    # print(data)\n",
    "    pass"
   ]
  },
  {
   "cell_type": "code",
   "execution_count": 16,
   "id": "3500b9c0",
   "metadata": {},
   "outputs": [],
   "source": [
    "# Append Mode\n",
    "with open(\"myFile.txt\", \"a\") as file:\n",
    "    file.write(\"\\nHello\")"
   ]
  },
  {
   "cell_type": "code",
   "execution_count": 17,
   "id": "ee7453b3",
   "metadata": {},
   "outputs": [
    {
     "name": "stdout",
     "output_type": "stream",
     "text": [
      "This is a sample sentence\n",
      "This is another sentence\n",
      "This is the third sentence\n",
      "Hello\n"
     ]
    }
   ],
   "source": [
    "with open(\"myfile.txt\", \"r\") as f: \n",
    "    data = f.read()\n",
    "    print(data)"
   ]
  },
  {
   "cell_type": "code",
   "execution_count": 28,
   "id": "d0c473b6",
   "metadata": {},
   "outputs": [
    {
     "name": "stdout",
     "output_type": "stream",
     "text": [
      "This is a sample sentence\n",
      "\n",
      "\n"
     ]
    }
   ],
   "source": [
    "## Other modes\n",
    "with open(\"myfile.txt\", \"r+\") as f: \n",
    "    data = f.readline()\n",
    "    print(data)\n",
    "    f.write(\"\\nFourth line\")\n",
    "    f.write(\"\\nFifth line\")\n",
    "    data = f.read()\n",
    "    print(data)\n",
    "\n"
   ]
  },
  {
   "cell_type": "code",
   "execution_count": 32,
   "id": "a6dc663a",
   "metadata": {},
   "outputs": [
    {
     "name": "stdout",
     "output_type": "stream",
     "text": [
      "\n",
      "\n"
     ]
    }
   ],
   "source": [
    "## Other modes\n",
    "with open(\"myfile2.txt\", \"w+\") as f: \n",
    "    # create and open file in write mode and replace the data\n",
    "    data = f.read()\n",
    "    print(data)\n",
    "    f.write(\"\\nFirst line\")\n",
    "    f.write(\"\\nSecond line\")\n",
    "    data = f.read()\n",
    "    print(data)"
   ]
  },
  {
   "cell_type": "code",
   "execution_count": 34,
   "id": "2fc40f9a",
   "metadata": {},
   "outputs": [],
   "source": [
    "class ManagedFile:\n",
    "    def __init__(self, filename, mode):\n",
    "        self.filename = filename\n",
    "        self.mode = mode\n",
    "\n",
    "    def __enter__(self):\n",
    "        self.file = open(self.filename, self.mode)\n",
    "        return self.file\n",
    "    \n",
    "    def __exit__(self, exc_type, exc_value, exc_traceback):\n",
    "        if self.file:\n",
    "            self.file.close()\n",
    "\n",
    "with ManagedFile('hello.txt', 'w') as f:\n",
    "    f.write('hello, world!')\n",
    "    f.write('bye now')"
   ]
  },
  {
   "cell_type": "code",
   "execution_count": null,
   "id": "8e84246b",
   "metadata": {},
   "outputs": [],
   "source": [
    "# Coppying a file to other file\n",
    "with ManagedFile(\"data.txt\", \"r\") as f1, ManagedFile(\"dummy.txt\", \"w\") as f2:\n",
    "    f2.write(f1.read())"
   ]
  },
  {
   "cell_type": "markdown",
   "id": "2d3c3cd7",
   "metadata": {},
   "source": [
    "##### Binary modes"
   ]
  },
  {
   "cell_type": "code",
   "execution_count": null,
   "id": "469081eb",
   "metadata": {},
   "outputs": [
    {
     "name": "stdout",
     "output_type": "stream",
     "text": [
      "Amit 25 MyClass: val1=100, val2=200\n"
     ]
    }
   ],
   "source": [
    "class MyClass:\n",
    "    def __init__(self, val1, val2):\n",
    "        self.val1 = val1\n",
    "        self.val2 = val2\n",
    "\n",
    "    def __str__(self):  # or __repr__\n",
    "        return f\"MyClass: val1={self.val1}, val2={self.val2}\"\n",
    "\n",
    "name, age = \"Amit\", 25\n",
    "obj = MyClass(100, 200)\n",
    "print(name, age, obj)\n"
   ]
  },
  {
   "cell_type": "code",
   "execution_count": 40,
   "id": "035f6727",
   "metadata": {},
   "outputs": [],
   "source": [
    "import pickle\n",
    "\n",
    "with open(\"my_data.pickel\", \"wb\")as f:\n",
    "    pickle.dump((name, age, obj), f)\n"
   ]
  },
  {
   "cell_type": "code",
   "execution_count": 43,
   "id": "8b24749c",
   "metadata": {},
   "outputs": [
    {
     "name": "stdout",
     "output_type": "stream",
     "text": [
      "MyClass: val1=100, val2=200\n"
     ]
    }
   ],
   "source": [
    "with open(\"my_data.pickel\",\"rb\" ) as f:\n",
    "    data = pickle.load(f)\n",
    "    print(data[2])\n"
   ]
  },
  {
   "cell_type": "markdown",
   "id": "b55600ba",
   "metadata": {},
   "source": [
    "#### map, filter, reduce, zip"
   ]
  },
  {
   "cell_type": "markdown",
   "id": "86cd8488",
   "metadata": {},
   "source": [
    "##### map"
   ]
  },
  {
   "cell_type": "code",
   "execution_count": 45,
   "id": "072757d3",
   "metadata": {},
   "outputs": [
    {
     "name": "stdout",
     "output_type": "stream",
     "text": [
      "[1, 4, 9, 16, 25]\n"
     ]
    }
   ],
   "source": [
    "nums = [1, 2, 3, 4, 5]\n",
    "squares = list(map(lambda x: x**2, nums))\n",
    "print(squares)\n"
   ]
  },
  {
   "cell_type": "code",
   "execution_count": 46,
   "id": "f8996e29",
   "metadata": {},
   "outputs": [
    {
     "name": "stdout",
     "output_type": "stream",
     "text": [
      "(1, 4, 9, 16, 25)\n"
     ]
    }
   ],
   "source": [
    "nums = [1, 2, 3, 4, 5]\n",
    "squares = tuple(map(lambda x: x**2, nums))\n",
    "print(squares)\n"
   ]
  },
  {
   "cell_type": "code",
   "execution_count": 47,
   "id": "445f42ac",
   "metadata": {},
   "outputs": [
    {
     "name": "stdout",
     "output_type": "stream",
     "text": [
      "{1, 4, 9, 16, 25}\n"
     ]
    }
   ],
   "source": [
    "nums = [1, 2, 3, 4, 5]\n",
    "squares = set(map(lambda x: x**2, nums))\n",
    "print(squares)\n"
   ]
  },
  {
   "cell_type": "markdown",
   "id": "8d248066",
   "metadata": {},
   "source": [
    "##### filter"
   ]
  },
  {
   "cell_type": "code",
   "execution_count": 49,
   "id": "b3017590",
   "metadata": {},
   "outputs": [
    {
     "name": "stdout",
     "output_type": "stream",
     "text": [
      "[2, 3, 4, 5]\n"
     ]
    }
   ],
   "source": [
    "nums = [1, 2, 3, 4, 5]\n",
    "even = list(filter(lambda x: x>1, nums))\n",
    "print(even)"
   ]
  },
  {
   "cell_type": "markdown",
   "id": "86b1efa8",
   "metadata": {},
   "source": [
    "##### reduce"
   ]
  },
  {
   "cell_type": "code",
   "execution_count": 51,
   "id": "a82df4bd",
   "metadata": {},
   "outputs": [
    {
     "name": "stdout",
     "output_type": "stream",
     "text": [
      "55\n",
      "3628800\n"
     ]
    }
   ],
   "source": [
    "from functools import reduce\n",
    "\n",
    "nums = [1,2,3,4,5,6,7,8,9,10]\n",
    "total =  reduce(lambda x,y: x+y, nums)\n",
    "print(total)\n",
    "product = reduce(lambda x,y: x*y, nums)\n",
    "print(product)"
   ]
  },
  {
   "cell_type": "code",
   "execution_count": 2,
   "id": "416375d3",
   "metadata": {},
   "outputs": [
    {
     "name": "stdout",
     "output_type": "stream",
     "text": [
      "5.5\n"
     ]
    }
   ],
   "source": [
    "# homework\n",
    "# find avg using reduce function\n",
    "from functools import reduce\n",
    "nums = [1,2,3,4,5,6,7,8,9,10]\n",
    "average = reduce(lambda x,y: x+y, nums) / len(nums)\n",
    "print(average)"
   ]
  },
  {
   "cell_type": "code",
   "execution_count": null,
   "id": "e0e60c31",
   "metadata": {},
   "outputs": [],
   "source": []
  }
 ],
 "metadata": {
  "kernelspec": {
   "display_name": "Python 3",
   "language": "python",
   "name": "python3"
  },
  "language_info": {
   "codemirror_mode": {
    "name": "ipython",
    "version": 3
   },
   "file_extension": ".py",
   "mimetype": "text/x-python",
   "name": "python",
   "nbconvert_exporter": "python",
   "pygments_lexer": "ipython3",
   "version": "3.12.5"
  }
 },
 "nbformat": 4,
 "nbformat_minor": 5
}
