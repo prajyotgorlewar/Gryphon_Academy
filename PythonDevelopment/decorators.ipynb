{
 "cells": [
  {
   "cell_type": "code",
   "execution_count": 1,
   "id": "58b7d5b1",
   "metadata": {},
   "outputs": [
    {
     "name": "stdout",
     "output_type": "stream",
     "text": [
      "2025-07-03 10:50:26.216850\n"
     ]
    }
   ],
   "source": [
    "from datetime import datetime\n",
    "\n",
    "def print_current_time():\n",
    "    print(datetime.now())\n",
    "print_current_time()    "
   ]
  },
  {
   "cell_type": "code",
   "execution_count": 7,
   "id": "ccafbde0",
   "metadata": {},
   "outputs": [
    {
     "name": "stdout",
     "output_type": "stream",
     "text": [
      "Before\n",
      "2025-07-03 11:04:18.306401\n",
      "After\n"
     ]
    }
   ],
   "source": [
    "from datetime import datetime\n",
    "\n",
    "def decorate(func):\n",
    "    def Wrapper():\n",
    "        print(\"Before\")\n",
    "        func()\n",
    "        print(\"After\")\n",
    "    return Wrapper\n",
    "\n",
    "@decorate\n",
    "def print_current_time():\n",
    "    print(datetime.now())\n",
    "print_current_time()    "
   ]
  },
  {
   "cell_type": "markdown",
   "id": "bc4f7a5b",
   "metadata": {},
   "source": [
    "##### wrapper for function with parameters"
   ]
  },
  {
   "cell_type": "code",
   "execution_count": 10,
   "id": "e40a6f52",
   "metadata": {},
   "outputs": [
    {
     "name": "stdout",
     "output_type": "stream",
     "text": [
      "Before print_sum\n",
      "10 + 20 = 30\n",
      "Aftere print_sum\n",
      "Before print_current_time\n",
      "2025-07-03 11:06:09.013937\n",
      "Aftere print_current_time\n"
     ]
    }
   ],
   "source": [
    "from datetime import datetime\n",
    "\n",
    "def decorate(func):\n",
    "    def Wrapper(*args, **kwargs):\n",
    "        print(f\"Before {func.__name__ }\")\n",
    "        func(*args, **kwargs)\n",
    "        print(f\"Aftere {func.__name__ }\")\n",
    "    return Wrapper\n",
    "\n",
    "@decorate\n",
    "def print_sum(a, b):\n",
    "    print(f\"{a} + {b} = {a + b}\")\n",
    "print_sum(10,20) \n",
    "\n",
    "@decorate\n",
    "def print_current_time():\n",
    "    print(datetime.now())\n",
    "print_current_time()    "
   ]
  },
  {
   "cell_type": "markdown",
   "id": "95cb11aa",
   "metadata": {},
   "source": [
    "##### wrapper for function with parameter and return value"
   ]
  },
  {
   "cell_type": "code",
   "execution_count": 12,
   "id": "d5027b70",
   "metadata": {},
   "outputs": [
    {
     "name": "stdout",
     "output_type": "stream",
     "text": [
      "Before get_sum\n",
      "Aftere get_sum\n",
      "3\n"
     ]
    }
   ],
   "source": [
    "from datetime import datetime\n",
    "\n",
    "def decorate(func):\n",
    "    def Wrapper(*args, **kwargs):\n",
    "        print(f\"Before {func.__name__ }\")\n",
    "        result = func(*args, **kwargs)\n",
    "        print(f\"Aftere {func.__name__ }\")\n",
    "        return result\n",
    "    return Wrapper\n",
    "\n",
    "@decorate\n",
    "def get_sum(a, b):\n",
    "    return a + b\n",
    "print(get_sum(1, 2))"
   ]
  },
  {
   "cell_type": "markdown",
   "id": "9e21f21e",
   "metadata": {},
   "source": [
    "### Calculator App"
   ]
  },
  {
   "cell_type": "code",
   "execution_count": 21,
   "id": "78c8f1e6",
   "metadata": {},
   "outputs": [
    {
     "data": {
      "text/plain": [
       "0.8042328042328042"
      ]
     },
     "execution_count": 21,
     "metadata": {},
     "output_type": "execute_result"
    }
   ],
   "source": [
    "import datetime\n",
    "def logger(fileName):\n",
    "    def decorate(function):\n",
    "        def wrapper(*args, **kwargs):\n",
    "            try:\n",
    "                with open(fileName, \"a\") as log:\n",
    "                    log.write(f\"{datetime.datetime.now()} calling {function.__name__} with arguments {args} {kwargs if kwargs else \"\"}\\n\")\n",
    "                    result = function(*args, **kwargs)\n",
    "                    log.write(f\"{datetime.datetime.now()} Return value of {function.__name__} : {result}\\n\")\n",
    "                    return result\n",
    "            except Exception as e:\n",
    "                print(e)\n",
    "        return wrapper\n",
    "    return decorate\n",
    "\n",
    "\n",
    "\n",
    "@logger(\"log.txt\")\n",
    "def Evaluate(number1, number2, operator):\n",
    "    try:\n",
    "        return eval(f\"{number1} {operator} {number2}\")\n",
    "    except Exception as e:\n",
    "        print(e)\n",
    "\n",
    "number1 = int(input(\"Enter the first number: \"))\n",
    "number2 = int(input(\"Enter the second number: \"))\n",
    "operator = input(\"Enter the operator: \")\n",
    "Evaluate(number1, number2, operator)        \n",
    "    "
   ]
  },
  {
   "cell_type": "markdown",
   "id": "b9ad2e42",
   "metadata": {},
   "source": [
    "#### Decorators with arguments"
   ]
  },
  {
   "cell_type": "code",
   "execution_count": 19,
   "id": "1870f844",
   "metadata": {},
   "outputs": [
    {
     "name": "stdout",
     "output_type": "stream",
     "text": [
      "Hello Alice\n",
      "Hello Alice\n",
      "Hello Alice\n"
     ]
    }
   ],
   "source": [
    "def repeat(n):\n",
    "    def decorator(func):\n",
    "        def wrapper(*args, **kwargs):\n",
    "            for i in range(n):\n",
    "                func(*args, **kwargs)\n",
    "        return wrapper\n",
    "    return decorator\n",
    "\n",
    "@repeat(3)\n",
    "def greet(name):\n",
    "    print(f\"Hello {name}\")\n",
    "\n",
    "greet(\"Alice\")    "
   ]
  },
  {
   "cell_type": "markdown",
   "id": "83152535",
   "metadata": {},
   "source": [
    "#### JSON"
   ]
  },
  {
   "cell_type": "code",
   "execution_count": 22,
   "id": "111a29a7",
   "metadata": {},
   "outputs": [
    {
     "name": "stdout",
     "output_type": "stream",
     "text": [
      "{'name': 'John', 'age': 30, 'city': 'New York'}\n",
      "<class 'dict'> {'name': 'John', 'age': 30, 'city': 'New York'}\n"
     ]
    }
   ],
   "source": [
    "import json\n",
    "\n",
    "data = {'name': 'John', 'age': 30, 'city': 'New York'}\n",
    "with open('data.json', 'w') as f:\n",
    "    json.dump(data, f)\n",
    "\n",
    "with open('data.json', 'r') as f:\n",
    "    data = json.load(f)\n",
    "    print(data)\n",
    "\n",
    "print(type(data), data)"
   ]
  }
 ],
 "metadata": {
  "kernelspec": {
   "display_name": "Python 3",
   "language": "python",
   "name": "python3"
  },
  "language_info": {
   "codemirror_mode": {
    "name": "ipython",
    "version": 3
   },
   "file_extension": ".py",
   "mimetype": "text/x-python",
   "name": "python",
   "nbconvert_exporter": "python",
   "pygments_lexer": "ipython3",
   "version": "3.12.5"
  }
 },
 "nbformat": 4,
 "nbformat_minor": 5
}
