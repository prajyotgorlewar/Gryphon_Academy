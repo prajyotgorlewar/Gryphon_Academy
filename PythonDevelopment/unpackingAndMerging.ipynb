{
 "cells": [
  {
   "cell_type": "code",
   "execution_count": null,
   "id": "13698f83",
   "metadata": {},
   "outputs": [
    {
     "name": "stdout",
     "output_type": "stream",
     "text": [
      "Sai 22 9999999999 Nagpur\n"
     ]
    }
   ],
   "source": [
    "info = (\"Sai\",\"22\",\"9999999999\",\"Nagpur\")\n",
    "name,age,phone,city = info\n",
    "print(name, age, phone, city)\n",
    "#Tuple unpacking"
   ]
  },
  {
   "cell_type": "code",
   "execution_count": null,
   "id": "af8183c7",
   "metadata": {},
   "outputs": [
    {
     "name": "stdout",
     "output_type": "stream",
     "text": [
      "Sai 22 9999999999 Nagpur\n"
     ]
    }
   ],
   "source": [
    "info = [\"Sai\",\"22\",\"9999999999\",\"Nagpur\"]\n",
    "name,age,phone,city = info\n",
    "print(name, age, phone, city)\n",
    "#List UnPacking"
   ]
  },
  {
   "cell_type": "code",
   "execution_count": null,
   "id": "380b13f0",
   "metadata": {},
   "outputs": [
    {
     "name": "stdout",
     "output_type": "stream",
     "text": [
      "Nagpur 9999999999 22 Sai\n"
     ]
    }
   ],
   "source": [
    "info = {\"Sai\",\"22\",\"9999999999\",\"Nagpur\"}\n",
    "name,age,phone,city = info\n",
    "print(name, age, phone, city)\n",
    "# Set unpacking\n",
    "# order will not be maintained"
   ]
  },
  {
   "cell_type": "code",
   "execution_count": 4,
   "id": "ad319705",
   "metadata": {},
   "outputs": [
    {
     "name": "stdout",
     "output_type": "stream",
     "text": [
      "('name', 'John') ('age', 30) ('city', 'New York')\n"
     ]
    }
   ],
   "source": [
    "info = {\"name\":\"John\", \"age\":30, \"city\":\"New York\"}\n",
    "var1, var2, var3 = info # only keys are unpacked\n",
    "var1, var2, var3 = info.values() # only values are unpacked\n",
    "var1, var2, var3 = info.items() # both keys and values are unpacked\n",
    "print(var1, var2, var3)"
   ]
  },
  {
   "cell_type": "code",
   "execution_count": 10,
   "id": "364848f3",
   "metadata": {},
   "outputs": [
    {
     "name": "stdout",
     "output_type": "stream",
     "text": [
      "[10, 20, 30, 100, 200, 300] [10, 20, 30] [100, 200, 300]\n",
      "[10, 20, 30, 100, 200, 300] [10, 20, 30] [100, 200, 300]\n",
      "[10, 20, 30, 100, 200, 300] [10, 20, 30] [100, 200, 300]\n"
     ]
    }
   ],
   "source": [
    "#Approach 1\n",
    "nums1 = [10,20,30]\n",
    "nums2 = [100, 200, 300]\n",
    "nums3 = nums1 + nums2\n",
    "print(nums3, nums1, nums2)\n",
    "\n",
    "#Approach 2\n",
    "nums3 = nums1.copy()\n",
    "nums3.extend(nums2)\n",
    "print(nums3, nums1, nums2)\n",
    "\n",
    "#Approach 3\n",
    "nums3 = [*nums1, *nums2] #merging\n",
    "print(nums3, nums1, nums2)"
   ]
  },
  {
   "cell_type": "code",
   "execution_count": 15,
   "id": "9d3d034c",
   "metadata": {},
   "outputs": [
    {
     "name": "stdout",
     "output_type": "stream",
     "text": [
      "(10, 20, 30, 100, 200, 300) (10, 20, 30) (100, 200, 300)\n"
     ]
    }
   ],
   "source": [
    "# for tuple\n",
    "nums1 = (10,20,30)\n",
    "nums2 = (100, 200, 300)\n",
    "\n",
    "nums3 = (*nums1, *nums2) #merging\n",
    "print(nums3, nums1, nums2)"
   ]
  },
  {
   "cell_type": "code",
   "execution_count": 14,
   "id": "46b25941",
   "metadata": {},
   "outputs": [
    {
     "name": "stdout",
     "output_type": "stream",
     "text": [
      "{20, 100, 200, 10, 300, 30} {10, 20, 30} {200, 100, 300}\n"
     ]
    }
   ],
   "source": [
    "# for set\n",
    "nums1 = {10,20,30}\n",
    "nums2 = {100, 200, 300}\n",
    "nums3 = {*nums1, *nums2} #merging\n",
    "print(nums3, nums1, nums2)"
   ]
  },
  {
   "cell_type": "code",
   "execution_count": 18,
   "id": "789571e4",
   "metadata": {},
   "outputs": [
    {
     "name": "stdout",
     "output_type": "stream",
     "text": [
      "{20, 100, 200, 10, 300, 30} {101, 201, 11, 301, 21, 31} {10: 11, 20: 21, 30: 31, 100: 101, 200: 201, 300: 301}\n"
     ]
    }
   ],
   "source": [
    "# for dictionary\n",
    "nums1 = {10:11,20:21,30:31}\n",
    "nums2 = {100:101, 200:201, 300:301}\n",
    "nums3_keys = {*nums1, *nums2}\n",
    "nums3_values = {*nums1.values(), *nums2.values()}\n",
    "nums3_dictionary = {**nums1, **nums2} #merging\n",
    "\n",
    "print(nums3_keys, nums3_values, nums3_dictionary)"
   ]
  },
  {
   "cell_type": "markdown",
   "id": "66140679",
   "metadata": {},
   "source": [
    "## args and kwargs"
   ]
  },
  {
   "cell_type": "code",
   "execution_count": 24,
   "id": "704d9a11",
   "metadata": {},
   "outputs": [
    {
     "name": "stdout",
     "output_type": "stream",
     "text": [
      "Amit 25 1000\n"
     ]
    }
   ],
   "source": [
    "def fun(*args):\n",
    "    name = args[0]\n",
    "    age = args[1]\n",
    "    salary = args[2]\n",
    "    print(name, age, salary)\n",
    "\n",
    "fun(\"Amit\", 25, 1000)    "
   ]
  },
  {
   "cell_type": "code",
   "execution_count": 26,
   "id": "195e1f0f",
   "metadata": {},
   "outputs": [
    {
     "name": "stdout",
     "output_type": "stream",
     "text": [
      "30\n",
      "60\n",
      "100\n"
     ]
    }
   ],
   "source": [
    "def add_all(*args):\n",
    "    result = 0\n",
    "    for arg in args:\n",
    "        result += arg\n",
    "    return result\n",
    "\n",
    "print(add_all(10,20))\n",
    "print(add_all(10,20,30))\n",
    "print(add_all(10,20,30,40))"
   ]
  },
  {
   "cell_type": "code",
   "execution_count": null,
   "id": "c78d76ef",
   "metadata": {},
   "outputs": [
    {
     "name": "stdout",
     "output_type": "stream",
     "text": [
      "20 10 John 25\n"
     ]
    }
   ],
   "source": [
    "def fun(val1, val2, name = None, age = 0):\n",
    "    print(val1, val2, name, age)\n",
    "\n",
    "fun(val2=10, val1=20, age = 25, name = \"John\") # Named Arguments"
   ]
  },
  {
   "cell_type": "code",
   "execution_count": null,
   "id": "e2c00b49",
   "metadata": {},
   "outputs": [
    {
     "ename": "SyntaxError",
     "evalue": "positional argument follows keyword argument (2768959681.py, line 5)",
     "output_type": "error",
     "traceback": [
      "\u001b[1;36m  Cell \u001b[1;32mIn[30], line 5\u001b[1;36m\u001b[0m\n\u001b[1;33m    fun( age = 25, name = \"John\", 10,20) # Error\u001b[0m\n\u001b[1;37m                                       ^\u001b[0m\n\u001b[1;31mSyntaxError\u001b[0m\u001b[1;31m:\u001b[0m positional argument follows keyword argument\n"
     ]
    }
   ],
   "source": [
    "## Note: [Positional arguments == Unnamed Arguments], [keyword arguments == Named Arguments]\n",
    "## Positional arguments (unnamed) should come before the keyword arguments (named)\n",
    "def fun(val1, val2, name = None, age = 0):\n",
    "    print(val1, val2, name, age)\n",
    "\n",
    "fun( age = 25, name = \"John\", 10,20) # Error"
   ]
  },
  {
   "cell_type": "code",
   "execution_count": 31,
   "id": "8f825ee7",
   "metadata": {},
   "outputs": [
    {
     "name": "stdout",
     "output_type": "stream",
     "text": [
      "10 20 John 25\n"
     ]
    }
   ],
   "source": [
    "def fun(*args, **kwargs):\n",
    "    val1 = args[0]\n",
    "    val2 = args[1]\n",
    "    name = kwargs['name']\n",
    "    age = kwargs['age']\n",
    "    print(val1, val2, name, age)\n",
    "\n",
    "fun( 10,20, age = 25, name = \"John\") "
   ]
  },
  {
   "cell_type": "code",
   "execution_count": null,
   "id": "e701d0e8",
   "metadata": {},
   "outputs": [],
   "source": []
  }
 ],
 "metadata": {
  "kernelspec": {
   "display_name": "Python 3",
   "language": "python",
   "name": "python3"
  },
  "language_info": {
   "codemirror_mode": {
    "name": "ipython",
    "version": 3
   },
   "file_extension": ".py",
   "mimetype": "text/x-python",
   "name": "python",
   "nbconvert_exporter": "python",
   "pygments_lexer": "ipython3",
   "version": "3.12.5"
  }
 },
 "nbformat": 4,
 "nbformat_minor": 5
}
